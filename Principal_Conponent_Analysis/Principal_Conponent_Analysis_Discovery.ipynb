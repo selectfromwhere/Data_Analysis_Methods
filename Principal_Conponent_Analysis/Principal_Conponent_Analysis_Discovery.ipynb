{
 "cells": [
  {
   "cell_type": "markdown",
   "metadata": {},
   "source": [
    "# 主成分分析\n",
    "\n",
    "## 分析の手順\n",
    "1. 使用するデータセットを確認する\n",
    "2. 主成分と主成分得点を求める\n",
    "3. 分析結果の精度を確認する\n",
    "4. 分析結果を解釈する\n",
    "  - 第一主成分のグラフ\n",
    "  - 変数のグラフ\n",
    "\n",
    "## 参考にする資料\n",
    "- マンガでわかる統計学「因子分析編」 高橋信 オーム社\n",
    "- http://www.statistics.co.jp/reference/software_R/statR_9_principal.pdf\n",
    "- http://blog.amedama.jp/entry/2017/04/02/130530\n",
    "- http://ohke.hateblo.jp/entry/2017/08/11/230000\n",
    "\n",
    "---"
   ]
  },
  {
   "cell_type": "markdown",
   "metadata": {},
   "source": [
    "## １．使用するデータセットの確認\n",
    "取得元：http://www.statistics.co.jp/reference/statistical_data/statistical_data.htm\n",
    "\n",
    "### 分析の目的\n",
    "**各科目の得点から、優秀な生徒と総合得点に影響を及ぼす科目を把握する**\n",
    "\n",
    "---"
   ]
  },
  {
   "cell_type": "code",
   "execution_count": 1,
   "metadata": {
    "collapsed": true
   },
   "outputs": [],
   "source": [
    "import numpy as np\n",
    "import pandas as pd\n",
    "import matplotlib.pyplot as plt\n",
    "import seaborn as sns\n",
    "from sklearn.decomposition import PCA\n",
    "%matplotlib inline"
   ]
  },
  {
   "cell_type": "code",
   "execution_count": 2,
   "metadata": {
    "collapsed": false
   },
   "outputs": [
    {
     "data": {
      "text/html": [
       "<div>\n",
       "<table border=\"1\" class=\"dataframe\">\n",
       "  <thead>\n",
       "    <tr style=\"text-align: right;\">\n",
       "      <th></th>\n",
       "      <th>kokugo</th>\n",
       "      <th>shakai</th>\n",
       "      <th>sugaku</th>\n",
       "      <th>rika</th>\n",
       "      <th>ongaku</th>\n",
       "      <th>bijutu</th>\n",
       "      <th>taiiku</th>\n",
       "      <th>gika</th>\n",
       "      <th>eigo</th>\n",
       "    </tr>\n",
       "  </thead>\n",
       "  <tbody>\n",
       "    <tr>\n",
       "      <th>0</th>\n",
       "      <td>30</td>\n",
       "      <td>43</td>\n",
       "      <td>51</td>\n",
       "      <td>63</td>\n",
       "      <td>60</td>\n",
       "      <td>66</td>\n",
       "      <td>37</td>\n",
       "      <td>44</td>\n",
       "      <td>20</td>\n",
       "    </tr>\n",
       "    <tr>\n",
       "      <th>1</th>\n",
       "      <td>39</td>\n",
       "      <td>21</td>\n",
       "      <td>49</td>\n",
       "      <td>56</td>\n",
       "      <td>70</td>\n",
       "      <td>72</td>\n",
       "      <td>56</td>\n",
       "      <td>63</td>\n",
       "      <td>16</td>\n",
       "    </tr>\n",
       "    <tr>\n",
       "      <th>2</th>\n",
       "      <td>29</td>\n",
       "      <td>30</td>\n",
       "      <td>23</td>\n",
       "      <td>57</td>\n",
       "      <td>69</td>\n",
       "      <td>76</td>\n",
       "      <td>33</td>\n",
       "      <td>54</td>\n",
       "      <td>6</td>\n",
       "    </tr>\n",
       "    <tr>\n",
       "      <th>3</th>\n",
       "      <td>95</td>\n",
       "      <td>87</td>\n",
       "      <td>77</td>\n",
       "      <td>100</td>\n",
       "      <td>77</td>\n",
       "      <td>82</td>\n",
       "      <td>78</td>\n",
       "      <td>96</td>\n",
       "      <td>87</td>\n",
       "    </tr>\n",
       "    <tr>\n",
       "      <th>4</th>\n",
       "      <td>70</td>\n",
       "      <td>71</td>\n",
       "      <td>78</td>\n",
       "      <td>67</td>\n",
       "      <td>72</td>\n",
       "      <td>82</td>\n",
       "      <td>46</td>\n",
       "      <td>63</td>\n",
       "      <td>44</td>\n",
       "    </tr>\n",
       "  </tbody>\n",
       "</table>\n",
       "</div>"
      ],
      "text/plain": [
       "   kokugo  shakai  sugaku  rika  ongaku  bijutu  taiiku  gika  eigo\n",
       "0      30      43      51    63      60      66      37    44    20\n",
       "1      39      21      49    56      70      72      56    63    16\n",
       "2      29      30      23    57      69      76      33    54     6\n",
       "3      95      87      77   100      77      82      78    96    87\n",
       "4      70      71      78    67      72      82      46    63    44"
      ]
     },
     "execution_count": 2,
     "metadata": {},
     "output_type": "execute_result"
    }
   ],
   "source": [
    "# データのインポート\n",
    "df = pd.read_csv('seiseki.csv')\n",
    "df.head()"
   ]
  },
  {
   "cell_type": "code",
   "execution_count": 3,
   "metadata": {
    "collapsed": false
   },
   "outputs": [
    {
     "data": {
      "text/html": [
       "<div>\n",
       "<table border=\"1\" class=\"dataframe\">\n",
       "  <thead>\n",
       "    <tr style=\"text-align: right;\">\n",
       "      <th></th>\n",
       "      <th>kokugo</th>\n",
       "      <th>shakai</th>\n",
       "      <th>sugaku</th>\n",
       "      <th>rika</th>\n",
       "      <th>ongaku</th>\n",
       "      <th>bijutu</th>\n",
       "      <th>taiiku</th>\n",
       "      <th>gika</th>\n",
       "      <th>eigo</th>\n",
       "    </tr>\n",
       "  </thead>\n",
       "  <tbody>\n",
       "    <tr>\n",
       "      <th>count</th>\n",
       "      <td>166.000000</td>\n",
       "      <td>166.000000</td>\n",
       "      <td>166.000000</td>\n",
       "      <td>166.000000</td>\n",
       "      <td>166.000000</td>\n",
       "      <td>166.000000</td>\n",
       "      <td>166.000000</td>\n",
       "      <td>166.000000</td>\n",
       "      <td>166.000000</td>\n",
       "    </tr>\n",
       "    <tr>\n",
       "      <th>mean</th>\n",
       "      <td>52.331325</td>\n",
       "      <td>39.602410</td>\n",
       "      <td>45.614458</td>\n",
       "      <td>49.885542</td>\n",
       "      <td>42.331325</td>\n",
       "      <td>62.457831</td>\n",
       "      <td>57.740964</td>\n",
       "      <td>47.307229</td>\n",
       "      <td>39.084337</td>\n",
       "    </tr>\n",
       "    <tr>\n",
       "      <th>std</th>\n",
       "      <td>21.835858</td>\n",
       "      <td>21.456335</td>\n",
       "      <td>24.236127</td>\n",
       "      <td>21.408130</td>\n",
       "      <td>22.894855</td>\n",
       "      <td>17.188298</td>\n",
       "      <td>26.577943</td>\n",
       "      <td>22.519397</td>\n",
       "      <td>29.507351</td>\n",
       "    </tr>\n",
       "    <tr>\n",
       "      <th>min</th>\n",
       "      <td>0.000000</td>\n",
       "      <td>4.000000</td>\n",
       "      <td>0.000000</td>\n",
       "      <td>9.000000</td>\n",
       "      <td>2.000000</td>\n",
       "      <td>15.000000</td>\n",
       "      <td>2.000000</td>\n",
       "      <td>2.000000</td>\n",
       "      <td>0.000000</td>\n",
       "    </tr>\n",
       "    <tr>\n",
       "      <th>25%</th>\n",
       "      <td>35.000000</td>\n",
       "      <td>23.000000</td>\n",
       "      <td>28.000000</td>\n",
       "      <td>31.000000</td>\n",
       "      <td>25.250000</td>\n",
       "      <td>52.000000</td>\n",
       "      <td>35.250000</td>\n",
       "      <td>31.250000</td>\n",
       "      <td>12.000000</td>\n",
       "    </tr>\n",
       "    <tr>\n",
       "      <th>50%</th>\n",
       "      <td>53.000000</td>\n",
       "      <td>35.000000</td>\n",
       "      <td>43.000000</td>\n",
       "      <td>49.000000</td>\n",
       "      <td>41.500000</td>\n",
       "      <td>65.000000</td>\n",
       "      <td>60.000000</td>\n",
       "      <td>48.500000</td>\n",
       "      <td>35.000000</td>\n",
       "    </tr>\n",
       "    <tr>\n",
       "      <th>75%</th>\n",
       "      <td>70.000000</td>\n",
       "      <td>53.750000</td>\n",
       "      <td>63.750000</td>\n",
       "      <td>65.750000</td>\n",
       "      <td>58.750000</td>\n",
       "      <td>75.750000</td>\n",
       "      <td>82.000000</td>\n",
       "      <td>65.000000</td>\n",
       "      <td>66.750000</td>\n",
       "    </tr>\n",
       "    <tr>\n",
       "      <th>max</th>\n",
       "      <td>96.000000</td>\n",
       "      <td>90.000000</td>\n",
       "      <td>100.000000</td>\n",
       "      <td>100.000000</td>\n",
       "      <td>96.000000</td>\n",
       "      <td>99.000000</td>\n",
       "      <td>99.000000</td>\n",
       "      <td>100.000000</td>\n",
       "      <td>99.000000</td>\n",
       "    </tr>\n",
       "  </tbody>\n",
       "</table>\n",
       "</div>"
      ],
      "text/plain": [
       "           kokugo      shakai      sugaku        rika      ongaku      bijutu  \\\n",
       "count  166.000000  166.000000  166.000000  166.000000  166.000000  166.000000   \n",
       "mean    52.331325   39.602410   45.614458   49.885542   42.331325   62.457831   \n",
       "std     21.835858   21.456335   24.236127   21.408130   22.894855   17.188298   \n",
       "min      0.000000    4.000000    0.000000    9.000000    2.000000   15.000000   \n",
       "25%     35.000000   23.000000   28.000000   31.000000   25.250000   52.000000   \n",
       "50%     53.000000   35.000000   43.000000   49.000000   41.500000   65.000000   \n",
       "75%     70.000000   53.750000   63.750000   65.750000   58.750000   75.750000   \n",
       "max     96.000000   90.000000  100.000000  100.000000   96.000000   99.000000   \n",
       "\n",
       "           taiiku        gika        eigo  \n",
       "count  166.000000  166.000000  166.000000  \n",
       "mean    57.740964   47.307229   39.084337  \n",
       "std     26.577943   22.519397   29.507351  \n",
       "min      2.000000    2.000000    0.000000  \n",
       "25%     35.250000   31.250000   12.000000  \n",
       "50%     60.000000   48.500000   35.000000  \n",
       "75%     82.000000   65.000000   66.750000  \n",
       "max     99.000000  100.000000   99.000000  "
      ]
     },
     "execution_count": 3,
     "metadata": {},
     "output_type": "execute_result"
    }
   ],
   "source": [
    "df.describe()"
   ]
  },
  {
   "cell_type": "markdown",
   "metadata": {},
   "source": [
    "国語、社会、数学、理科、音楽、美術、体育、技科、英語の得点  \n",
    "おそらく100点満点で、平均値は全般に低い\n",
    "\n",
    "---"
   ]
  },
  {
   "cell_type": "markdown",
   "metadata": {},
   "source": [
    "## ２．主成分と主成分得点を求める"
   ]
  },
  {
   "cell_type": "code",
   "execution_count": 4,
   "metadata": {
    "collapsed": false
   },
   "outputs": [
    {
     "data": {
      "text/plain": [
       "PCA(copy=True, n_components=None, whiten=False)"
      ]
     },
     "execution_count": 4,
     "metadata": {},
     "output_type": "execute_result"
    }
   ],
   "source": [
    "# scikit-learnのPCAライブラリを使用して、主成分分析する\n",
    "pca = PCA()\n",
    "pca.fit(df)"
   ]
  },
  {
   "cell_type": "markdown",
   "metadata": {},
   "source": [
    "実行はこれだけ\n",
    "\n",
    "---"
   ]
  },
  {
   "cell_type": "markdown",
   "metadata": {},
   "source": [
    "## ３．分析結果の精度を確認する"
   ]
  },
  {
   "cell_type": "code",
   "execution_count": 5,
   "metadata": {
    "collapsed": false
   },
   "outputs": [
    {
     "data": {
      "text/plain": [
       "array([ 0.65728336,  0.1445361 ,  0.0554714 ,  0.04325809,  0.02564213,\n",
       "        0.02235507,  0.02205383,  0.01749933,  0.01190071])"
      ]
     },
     "execution_count": 5,
     "metadata": {},
     "output_type": "execute_result"
    }
   ],
   "source": [
    "# 寄与率\n",
    "pca.explained_variance_ratio_"
   ]
  },
  {
   "cell_type": "code",
   "execution_count": 6,
   "metadata": {
    "collapsed": false
   },
   "outputs": [
    {
     "data": {
      "text/plain": [
       "<Container object of 9 artists>"
      ]
     },
     "execution_count": 6,
     "metadata": {},
     "output_type": "execute_result"
    },
    {
     "data": {
      "image/png": "[encoded data removed]",
      "text/plain": [
       "<matplotlib.figure.Figure at 0x11e6260b8>"
      ]
     },
     "metadata": {},
     "output_type": "display_data"
    }
   ],
   "source": [
    "# 寄与率をプロットする\n",
    "x = np.arange(1,10)\n",
    "y = pca.explained_variance_ratio_\n",
    "plt.bar(x, y)"
   ]
  },
  {
   "cell_type": "code",
   "execution_count": 7,
   "metadata": {
    "collapsed": false
   },
   "outputs": [
    {
     "data": {
      "text/plain": [
       "array([[ 0.3409922 ,  0.34041758,  0.37791685,  0.33721105,  0.34818955,\n",
       "         0.22328615,  0.1639193 ,  0.30336298,  0.47044282],\n",
       "       [-0.12016459,  0.11683065,  0.16966609,  0.20037872, -0.00559508,\n",
       "        -0.16034103, -0.92721768,  0.12404493,  0.04596244],\n",
       "       [ 0.11913742,  0.02853467, -0.32532621,  0.1187427 ,  0.0206913 ,\n",
       "         0.19571592, -0.00550172,  0.74661434, -0.51851614],\n",
       "       [-0.14644965,  0.00440724,  0.21414419,  0.18183134,  0.64090179,\n",
       "         0.24140458, -0.02390869, -0.36974313, -0.54157162],\n",
       "       [ 0.53303394,  0.20639671, -0.06365218, -0.19973887, -0.31012018,\n",
       "         0.60103324, -0.24740476, -0.31470365, -0.10800471],\n",
       "       [-0.33997208, -0.24937617, -0.46789421, -0.13600416,  0.32834882,\n",
       "         0.5005022 , -0.1623205 ,  0.04887445,  0.44469803],\n",
       "       [ 0.21642993,  0.52952746, -0.61946947,  0.02623713,  0.30486528,\n",
       "        -0.38692821, -0.02968317, -0.20762538,  0.04101548],\n",
       "       [ 0.57248513, -0.53303916,  0.05839382, -0.37180094,  0.38415958,\n",
       "        -0.25748054, -0.15581813,  0.08744778,  0.02613491],\n",
       "       [-0.24363134,  0.44756526,  0.2580088 , -0.77566587,  0.15179132,\n",
       "         0.01000422, -0.00886051,  0.21507738, -0.05124009]])"
      ]
     },
     "execution_count": 7,
     "metadata": {},
     "output_type": "execute_result"
    }
   ],
   "source": [
    "# 固有ベクトル\n",
    "pca.components_"
   ]
  },
  {
   "cell_type": "markdown",
   "metadata": {},
   "source": [
    "第一主成分：0.65728336  \n",
    "第二主成分：0.1445361  \n",
    "で十分な累積寄与率となっている。\n",
    "\n",
    "第一主成分との関連性が最も強い教科は、固有ベクトルが「0.47044282」の『英語』  \n",
    "第二主成分との関連性が最も強い教科は、固有ベクトルが「-0.92721768」の『体育』  \n",
    "であることがわかった。\n",
    "\n",
    "---"
   ]
  },
  {
   "cell_type": "markdown",
   "metadata": {},
   "source": [
    "## ４．分析結果を解釈する\n",
    "\n",
    "第一主成分、第二主成分から主成分分析の結果を解釈する"
   ]
  },
  {
   "cell_type": "code",
   "execution_count": 8,
   "metadata": {
    "collapsed": false
   },
   "outputs": [
    {
     "data": {
      "text/plain": [
       "PCA(copy=True, n_components=2, whiten=False)"
      ]
     },
     "execution_count": 8,
     "metadata": {},
     "output_type": "execute_result"
    }
   ],
   "source": [
    "# 第一主成分、第二主成分のみを得るよう主成分分析\n",
    "pca = PCA(n_components=2)\n",
    "pca.fit(df)"
   ]
  },
  {
   "cell_type": "code",
   "execution_count": 9,
   "metadata": {
    "collapsed": false
   },
   "outputs": [
    {
     "data": {
      "text/plain": [
       "array([ 0.65728336,  0.1445361 ])"
      ]
     },
     "execution_count": 9,
     "metadata": {},
     "output_type": "execute_result"
    }
   ],
   "source": [
    "# 寄与率\n",
    "pca.explained_variance_ratio_"
   ]
  },
  {
   "cell_type": "code",
   "execution_count": 10,
   "metadata": {
    "collapsed": false
   },
   "outputs": [
    {
     "data": {
      "text/plain": [
       "array([[ 0.3409922 ,  0.34041758,  0.37791685,  0.33721105,  0.34818955,\n",
       "         0.22328615,  0.1639193 ,  0.30336298,  0.47044282],\n",
       "       [-0.12016459,  0.11683065,  0.16966609,  0.20037872, -0.00559508,\n",
       "        -0.16034103, -0.92721768,  0.12404493,  0.04596244]])"
      ]
     },
     "execution_count": 10,
     "metadata": {},
     "output_type": "execute_result"
    }
   ],
   "source": [
    "# 固有ベクトル\n",
    "pca.components_"
   ]
  },
  {
   "cell_type": "code",
   "execution_count": 11,
   "metadata": {
    "collapsed": false
   },
   "outputs": [
    {
     "data": {
      "text/html": [
       "<div>\n",
       "<table border=\"1\" class=\"dataframe\">\n",
       "  <thead>\n",
       "    <tr style=\"text-align: right;\">\n",
       "      <th></th>\n",
       "      <th>国語</th>\n",
       "      <th>社会</th>\n",
       "      <th>数学</th>\n",
       "      <th>理科</th>\n",
       "      <th>音楽</th>\n",
       "      <th>美術</th>\n",
       "      <th>体育</th>\n",
       "      <th>技科</th>\n",
       "      <th>英語</th>\n",
       "    </tr>\n",
       "  </thead>\n",
       "  <tbody>\n",
       "    <tr>\n",
       "      <th>0</th>\n",
       "      <td>0.340992</td>\n",
       "      <td>0.340418</td>\n",
       "      <td>0.377917</td>\n",
       "      <td>0.337211</td>\n",
       "      <td>0.348190</td>\n",
       "      <td>0.223286</td>\n",
       "      <td>0.163919</td>\n",
       "      <td>0.303363</td>\n",
       "      <td>0.470443</td>\n",
       "    </tr>\n",
       "    <tr>\n",
       "      <th>1</th>\n",
       "      <td>-0.120165</td>\n",
       "      <td>0.116831</td>\n",
       "      <td>0.169666</td>\n",
       "      <td>0.200379</td>\n",
       "      <td>-0.005595</td>\n",
       "      <td>-0.160341</td>\n",
       "      <td>-0.927218</td>\n",
       "      <td>0.124045</td>\n",
       "      <td>0.045962</td>\n",
       "    </tr>\n",
       "  </tbody>\n",
       "</table>\n",
       "</div>"
      ],
      "text/plain": [
       "         国語        社会        数学        理科        音楽        美術        体育  \\\n",
       "0  0.340992  0.340418  0.377917  0.337211  0.348190  0.223286  0.163919   \n",
       "1 -0.120165  0.116831  0.169666  0.200379 -0.005595 -0.160341 -0.927218   \n",
       "\n",
       "         技科        英語  \n",
       "0  0.303363  0.470443  \n",
       "1  0.124045  0.045962  "
      ]
     },
     "execution_count": 11,
     "metadata": {},
     "output_type": "execute_result"
    }
   ],
   "source": [
    "# 固有ベクトルをデータフレーム化\n",
    "plt_df2 = pd.DataFrame(pca.components_, columns=['国語','社会','数学','理科','音楽','美術','体育','技科','英語'])\n",
    "plt_df2"
   ]
  },
  {
   "cell_type": "code",
   "execution_count": 12,
   "metadata": {
    "collapsed": false
   },
   "outputs": [
    {
     "data": {
      "image/png": "[encoded data removed]",
      "text/plain": [
       "<matplotlib.figure.Figure at 0x120deaf60>"
      ]
     },
     "metadata": {},
     "output_type": "display_data"
    }
   ],
   "source": [
    "# 第一主成分と第二主成分の固有ベクトルを可視化\n",
    "plt.figure(figsize=(8, 6))\n",
    "x = plt_df2.T[0]\n",
    "y = plt_df2.T[1]\n",
    "plt.scatter(x,y,color='red')\n",
    "\n",
    "plt.title(\"Components\")\n",
    "plt.xlabel(\"pc_1\")\n",
    "plt.ylabel(\"pc_2\")\n",
    "plt.grid(True)"
   ]
  },
  {
   "cell_type": "markdown",
   "metadata": {},
   "source": [
    "- 第一主成分は総合得点と筆記試験の関連性が高く、実技試験の関連性が低いことを示している\n",
    "- 第二主成分は総合得点と体育の強い関連性を示している"
   ]
  },
  {
   "cell_type": "code",
   "execution_count": 13,
   "metadata": {
    "collapsed": false,
    "scrolled": true
   },
   "outputs": [
    {
     "data": {
      "text/html": [
       "<div>\n",
       "<table border=\"1\" class=\"dataframe\">\n",
       "  <thead>\n",
       "    <tr style=\"text-align: right;\">\n",
       "      <th></th>\n",
       "      <th>0</th>\n",
       "      <th>1</th>\n",
       "    </tr>\n",
       "  </thead>\n",
       "  <tbody>\n",
       "    <tr>\n",
       "      <th>0</th>\n",
       "      <td>-6.438840</td>\n",
       "      <td>23.899147</td>\n",
       "    </tr>\n",
       "    <tr>\n",
       "      <th>1</th>\n",
       "      <td>-2.157204</td>\n",
       "      <td>2.043280</td>\n",
       "    </tr>\n",
       "    <tr>\n",
       "      <th>2</th>\n",
       "      <td>-22.651879</td>\n",
       "      <td>19.199671</td>\n",
       "    </tr>\n",
       "    <tr>\n",
       "      <th>3</th>\n",
       "      <td>116.513709</td>\n",
       "      <td>1.907651</td>\n",
       "    </tr>\n",
       "    <tr>\n",
       "      <th>4</th>\n",
       "      <td>54.565790</td>\n",
       "      <td>20.228717</td>\n",
       "    </tr>\n",
       "  </tbody>\n",
       "</table>\n",
       "</div>"
      ],
      "text/plain": [
       "            0          1\n",
       "0   -6.438840  23.899147\n",
       "1   -2.157204   2.043280\n",
       "2  -22.651879  19.199671\n",
       "3  116.513709   1.907651\n",
       "4   54.565790  20.228717"
      ]
     },
     "execution_count": 13,
     "metadata": {},
     "output_type": "execute_result"
    }
   ],
   "source": [
    "# 第一主成分と第二主成分でデータフレーム化\n",
    "pc = pca.fit_transform(df)\n",
    "plt_df = pd.DataFrame(pc)\n",
    "plt_df.head()"
   ]
  },
  {
   "cell_type": "code",
   "execution_count": 14,
   "metadata": {
    "collapsed": false
   },
   "outputs": [
    {
     "data": {
      "image/png": "[encoded data removed]",
      "text/plain": [
       "<matplotlib.figure.Figure at 0x1212a1550>"
      ]
     },
     "metadata": {},
     "output_type": "display_data"
    }
   ],
   "source": [
    "# 第一主成分と第二主成分を可視化\n",
    "plt.figure(figsize=(10, 8))\n",
    "x = plt_df[0]\n",
    "y = plt_df[1]\n",
    "plt.scatter(x,y,color='orange')\n",
    "\n",
    "plt.title(\"Principal Component\")\n",
    "plt.xlabel(\"pc_1\")\n",
    "plt.ylabel(\"pc_2\")\n",
    "plt.grid(True)"
   ]
  },
  {
   "cell_type": "markdown",
   "metadata": {
    "collapsed": true
   },
   "source": [
    "４象限に分けると、  \n",
    "右上：筆記試験に強く、体育は苦手  \n",
    "右下：筆記試験に強く、体育も得意  \n",
    "左上：筆記試験は苦手、体育も苦手  \n",
    "左下：筆記試験は苦手、体育も得意  "
   ]
  },
  {
   "cell_type": "markdown",
   "metadata": {},
   "source": [
    "**matplotlibではどの点がどのレコードに該当するかわかりにくいため、bokehに変更したい**"
   ]
  },
  {
   "cell_type": "code",
   "execution_count": null,
   "metadata": {
    "collapsed": true
   },
   "outputs": [],
   "source": []
  }
 ],
 "metadata": {
  "kernelspec": {
   "display_name": "Python 3",
   "language": "python",
   "name": "python3"
  },
  "language_info": {
   "codemirror_mode": {
    "name": "ipython",
    "version": 3
   },
   "file_extension": ".py",
   "mimetype": "text/x-python",
   "name": "python",
   "nbconvert_exporter": "python",
   "pygments_lexer": "ipython3",
   "version": "3.5.4"
  }
 },
 "nbformat": 4,
 "nbformat_minor": 0
}
