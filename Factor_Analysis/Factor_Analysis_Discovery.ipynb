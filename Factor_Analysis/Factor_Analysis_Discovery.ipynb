{
 "cells": [
  {
   "cell_type": "markdown",
   "metadata": {},
   "source": [
    "# 因子分析"
   ]
  },
  {
   "cell_type": "markdown",
   "metadata": {},
   "source": [
    "## 分析の手順\n",
    "1. 使用するデータセットを確認する\n",
    "2. 因子負荷量を求める\n",
    "3. 共通因子の意味を解釈する\n",
    "4. 分析結果の精度を確認する\n",
    "5. 因子得点を求める\n",
    "\n",
    "## 参考にする資料\n",
    "- マンガでわかる統計学「因子分析編」 高橋信 オーム社\n",
    "- https://istat.co.jp/ta_commentary/factor_analysis\n",
    "\n",
    "---"
   ]
  },
  {
   "cell_type": "markdown",
   "metadata": {},
   "source": [
    "## １．使用するデータセットの確認\n",
    "取得元：http://www.statistics.co.jp/reference/statistical_data/statistical_data.htm\n",
    "\n",
    "### 分析の目的\n",
    "**各科目の得点から、共通因子を探る**\n",
    "\n",
    "---"
   ]
  },
  {
   "cell_type": "code",
   "execution_count": 1,
   "metadata": {
    "collapsed": true
   },
   "outputs": [],
   "source": [
    "import numpy as np\n",
    "import pandas as pd\n",
    "import matplotlib.pyplot as plt\n",
    "import seaborn as sns\n",
    "from sklearn.decomposition import FactorAnalysis as FA\n",
    "%matplotlib inline"
   ]
  },
  {
   "cell_type": "code",
   "execution_count": 2,
   "metadata": {
    "collapsed": false
   },
   "outputs": [
    {
     "data": {
      "text/html": [
       "<div>\n",
       "<table border=\"1\" class=\"dataframe\">\n",
       "  <thead>\n",
       "    <tr style=\"text-align: right;\">\n",
       "      <th></th>\n",
       "      <th>kokugo</th>\n",
       "      <th>shakai</th>\n",
       "      <th>sugaku</th>\n",
       "      <th>rika</th>\n",
       "      <th>ongaku</th>\n",
       "      <th>bijutu</th>\n",
       "      <th>taiiku</th>\n",
       "      <th>gika</th>\n",
       "      <th>eigo</th>\n",
       "    </tr>\n",
       "  </thead>\n",
       "  <tbody>\n",
       "    <tr>\n",
       "      <th>0</th>\n",
       "      <td>30</td>\n",
       "      <td>43</td>\n",
       "      <td>51</td>\n",
       "      <td>63</td>\n",
       "      <td>60</td>\n",
       "      <td>66</td>\n",
       "      <td>37</td>\n",
       "      <td>44</td>\n",
       "      <td>20</td>\n",
       "    </tr>\n",
       "    <tr>\n",
       "      <th>1</th>\n",
       "      <td>39</td>\n",
       "      <td>21</td>\n",
       "      <td>49</td>\n",
       "      <td>56</td>\n",
       "      <td>70</td>\n",
       "      <td>72</td>\n",
       "      <td>56</td>\n",
       "      <td>63</td>\n",
       "      <td>16</td>\n",
       "    </tr>\n",
       "    <tr>\n",
       "      <th>2</th>\n",
       "      <td>29</td>\n",
       "      <td>30</td>\n",
       "      <td>23</td>\n",
       "      <td>57</td>\n",
       "      <td>69</td>\n",
       "      <td>76</td>\n",
       "      <td>33</td>\n",
       "      <td>54</td>\n",
       "      <td>6</td>\n",
       "    </tr>\n",
       "    <tr>\n",
       "      <th>3</th>\n",
       "      <td>95</td>\n",
       "      <td>87</td>\n",
       "      <td>77</td>\n",
       "      <td>100</td>\n",
       "      <td>77</td>\n",
       "      <td>82</td>\n",
       "      <td>78</td>\n",
       "      <td>96</td>\n",
       "      <td>87</td>\n",
       "    </tr>\n",
       "    <tr>\n",
       "      <th>4</th>\n",
       "      <td>70</td>\n",
       "      <td>71</td>\n",
       "      <td>78</td>\n",
       "      <td>67</td>\n",
       "      <td>72</td>\n",
       "      <td>82</td>\n",
       "      <td>46</td>\n",
       "      <td>63</td>\n",
       "      <td>44</td>\n",
       "    </tr>\n",
       "  </tbody>\n",
       "</table>\n",
       "</div>"
      ],
      "text/plain": [
       "   kokugo  shakai  sugaku  rika  ongaku  bijutu  taiiku  gika  eigo\n",
       "0      30      43      51    63      60      66      37    44    20\n",
       "1      39      21      49    56      70      72      56    63    16\n",
       "2      29      30      23    57      69      76      33    54     6\n",
       "3      95      87      77   100      77      82      78    96    87\n",
       "4      70      71      78    67      72      82      46    63    44"
      ]
     },
     "execution_count": 2,
     "metadata": {},
     "output_type": "execute_result"
    }
   ],
   "source": [
    "# データのインポート\n",
    "df = pd.read_csv('seiseki.csv')\n",
    "df.head()"
   ]
  },
  {
   "cell_type": "code",
   "execution_count": 3,
   "metadata": {
    "collapsed": false
   },
   "outputs": [
    {
     "data": {
      "text/html": [
       "<div>\n",
       "<table border=\"1\" class=\"dataframe\">\n",
       "  <thead>\n",
       "    <tr style=\"text-align: right;\">\n",
       "      <th></th>\n",
       "      <th>kokugo</th>\n",
       "      <th>shakai</th>\n",
       "      <th>sugaku</th>\n",
       "      <th>rika</th>\n",
       "      <th>ongaku</th>\n",
       "      <th>bijutu</th>\n",
       "      <th>taiiku</th>\n",
       "      <th>gika</th>\n",
       "      <th>eigo</th>\n",
       "    </tr>\n",
       "  </thead>\n",
       "  <tbody>\n",
       "    <tr>\n",
       "      <th>count</th>\n",
       "      <td>166.000000</td>\n",
       "      <td>166.000000</td>\n",
       "      <td>166.000000</td>\n",
       "      <td>166.000000</td>\n",
       "      <td>166.000000</td>\n",
       "      <td>166.000000</td>\n",
       "      <td>166.000000</td>\n",
       "      <td>166.000000</td>\n",
       "      <td>166.000000</td>\n",
       "    </tr>\n",
       "    <tr>\n",
       "      <th>mean</th>\n",
       "      <td>52.331325</td>\n",
       "      <td>39.602410</td>\n",
       "      <td>45.614458</td>\n",
       "      <td>49.885542</td>\n",
       "      <td>42.331325</td>\n",
       "      <td>62.457831</td>\n",
       "      <td>57.740964</td>\n",
       "      <td>47.307229</td>\n",
       "      <td>39.084337</td>\n",
       "    </tr>\n",
       "    <tr>\n",
       "      <th>std</th>\n",
       "      <td>21.835858</td>\n",
       "      <td>21.456335</td>\n",
       "      <td>24.236127</td>\n",
       "      <td>21.408130</td>\n",
       "      <td>22.894855</td>\n",
       "      <td>17.188298</td>\n",
       "      <td>26.577943</td>\n",
       "      <td>22.519397</td>\n",
       "      <td>29.507351</td>\n",
       "    </tr>\n",
       "    <tr>\n",
       "      <th>min</th>\n",
       "      <td>0.000000</td>\n",
       "      <td>4.000000</td>\n",
       "      <td>0.000000</td>\n",
       "      <td>9.000000</td>\n",
       "      <td>2.000000</td>\n",
       "      <td>15.000000</td>\n",
       "      <td>2.000000</td>\n",
       "      <td>2.000000</td>\n",
       "      <td>0.000000</td>\n",
       "    </tr>\n",
       "    <tr>\n",
       "      <th>25%</th>\n",
       "      <td>35.000000</td>\n",
       "      <td>23.000000</td>\n",
       "      <td>28.000000</td>\n",
       "      <td>31.000000</td>\n",
       "      <td>25.250000</td>\n",
       "      <td>52.000000</td>\n",
       "      <td>35.250000</td>\n",
       "      <td>31.250000</td>\n",
       "      <td>12.000000</td>\n",
       "    </tr>\n",
       "    <tr>\n",
       "      <th>50%</th>\n",
       "      <td>53.000000</td>\n",
       "      <td>35.000000</td>\n",
       "      <td>43.000000</td>\n",
       "      <td>49.000000</td>\n",
       "      <td>41.500000</td>\n",
       "      <td>65.000000</td>\n",
       "      <td>60.000000</td>\n",
       "      <td>48.500000</td>\n",
       "      <td>35.000000</td>\n",
       "    </tr>\n",
       "    <tr>\n",
       "      <th>75%</th>\n",
       "      <td>70.000000</td>\n",
       "      <td>53.750000</td>\n",
       "      <td>63.750000</td>\n",
       "      <td>65.750000</td>\n",
       "      <td>58.750000</td>\n",
       "      <td>75.750000</td>\n",
       "      <td>82.000000</td>\n",
       "      <td>65.000000</td>\n",
       "      <td>66.750000</td>\n",
       "    </tr>\n",
       "    <tr>\n",
       "      <th>max</th>\n",
       "      <td>96.000000</td>\n",
       "      <td>90.000000</td>\n",
       "      <td>100.000000</td>\n",
       "      <td>100.000000</td>\n",
       "      <td>96.000000</td>\n",
       "      <td>99.000000</td>\n",
       "      <td>99.000000</td>\n",
       "      <td>100.000000</td>\n",
       "      <td>99.000000</td>\n",
       "    </tr>\n",
       "  </tbody>\n",
       "</table>\n",
       "</div>"
      ],
      "text/plain": [
       "           kokugo      shakai      sugaku        rika      ongaku      bijutu  \\\n",
       "count  166.000000  166.000000  166.000000  166.000000  166.000000  166.000000   \n",
       "mean    52.331325   39.602410   45.614458   49.885542   42.331325   62.457831   \n",
       "std     21.835858   21.456335   24.236127   21.408130   22.894855   17.188298   \n",
       "min      0.000000    4.000000    0.000000    9.000000    2.000000   15.000000   \n",
       "25%     35.000000   23.000000   28.000000   31.000000   25.250000   52.000000   \n",
       "50%     53.000000   35.000000   43.000000   49.000000   41.500000   65.000000   \n",
       "75%     70.000000   53.750000   63.750000   65.750000   58.750000   75.750000   \n",
       "max     96.000000   90.000000  100.000000  100.000000   96.000000   99.000000   \n",
       "\n",
       "           taiiku        gika        eigo  \n",
       "count  166.000000  166.000000  166.000000  \n",
       "mean    57.740964   47.307229   39.084337  \n",
       "std     26.577943   22.519397   29.507351  \n",
       "min      2.000000    2.000000    0.000000  \n",
       "25%     35.250000   31.250000   12.000000  \n",
       "50%     60.000000   48.500000   35.000000  \n",
       "75%     82.000000   65.000000   66.750000  \n",
       "max     99.000000  100.000000   99.000000  "
      ]
     },
     "execution_count": 3,
     "metadata": {},
     "output_type": "execute_result"
    }
   ],
   "source": [
    "df.describe()"
   ]
  },
  {
   "cell_type": "markdown",
   "metadata": {},
   "source": [
    "---"
   ]
  },
  {
   "cell_type": "markdown",
   "metadata": {},
   "source": [
    "## ２．因子負荷量を求める"
   ]
  },
  {
   "cell_type": "code",
   "execution_count": 4,
   "metadata": {
    "collapsed": false
   },
   "outputs": [
    {
     "name": "stderr",
     "output_type": "stream",
     "text": [
      "/Users/tanakayuto/.pyenv/versions/anaconda3-4.0.0/lib/python3.5/site-packages/sklearn/utils/validation.py:475: DataConversionWarning: Data with input dtype int64 was converted to float64 by StandardScaler.\n",
      "  warnings.warn(msg, DataConversionWarning)\n"
     ]
    },
    {
     "data": {
      "text/plain": [
       "array([[-1.0257849 ,  0.15882818,  0.22288369, ..., -0.78274382,\n",
       "        -0.14730571, -0.64872246],\n",
       "       [-0.61237172, -0.86961243,  0.14011256, ..., -0.06570228,\n",
       "         0.69896425, -0.78469207],\n",
       "       [-1.0717197 , -0.44888673, -0.93591204, ..., -0.93369993,\n",
       "         0.29809953, -1.12461609],\n",
       "       ..., \n",
       "       [-0.33676294, -0.63587593, -0.68759867, ...,  0.38716605,\n",
       "        -0.32546781, -0.41077565],\n",
       "       [ 0.94941138, -0.40213943, -0.10820081, ...,  0.91551245,\n",
       "         0.03085639,  0.575004  ],\n",
       "       [ 0.35225902,  2.1222148 ,  1.79553503, ...,  0.87777342,\n",
       "        -0.10276519,  1.56078365]])"
      ]
     },
     "execution_count": 4,
     "metadata": {},
     "output_type": "execute_result"
    }
   ],
   "source": [
    "from sklearn.preprocessing import StandardScaler\n",
    "# 標準化する\n",
    "sc = StandardScaler()\n",
    "values_std = sc.fit_transform(df.values)\n",
    "values_std"
   ]
  },
  {
   "cell_type": "code",
   "execution_count": 5,
   "metadata": {
    "collapsed": false
   },
   "outputs": [],
   "source": [
    "from factor_analyzer import FactorAnalyzer"
   ]
  },
  {
   "cell_type": "code",
   "execution_count": 6,
   "metadata": {
    "collapsed": true
   },
   "outputs": [],
   "source": [
    "df_std = pd.DataFrame(values_std)\n",
    "df_std.index = df.index\n",
    "df_std.columns = df.columns"
   ]
  },
  {
   "cell_type": "code",
   "execution_count": 7,
   "metadata": {
    "collapsed": false
   },
   "outputs": [],
   "source": [
    "fa = FactorAnalyzer()\n",
    "fa.analyze(df_std, 2, rotation='varimax')\n",
    "# pythonからは因子得点を得られない\n",
    "# fa.analyze(df_std, 2, rotation='varimax', scores='regression')"
   ]
  },
  {
   "cell_type": "code",
   "execution_count": 8,
   "metadata": {
    "collapsed": false
   },
   "outputs": [
    {
     "data": {
      "text/html": [
       "<div>\n",
       "<table border=\"1\" class=\"dataframe\">\n",
       "  <thead>\n",
       "    <tr style=\"text-align: right;\">\n",
       "      <th></th>\n",
       "      <th>Factor1</th>\n",
       "      <th>Factor2</th>\n",
       "    </tr>\n",
       "  </thead>\n",
       "  <tbody>\n",
       "    <tr>\n",
       "      <th>kokugo</th>\n",
       "      <td>-0.782942</td>\n",
       "      <td>0.427470</td>\n",
       "    </tr>\n",
       "    <tr>\n",
       "      <th>shakai</th>\n",
       "      <td>-0.894137</td>\n",
       "      <td>0.148634</td>\n",
       "    </tr>\n",
       "    <tr>\n",
       "      <th>sugaku</th>\n",
       "      <td>-0.868325</td>\n",
       "      <td>0.110725</td>\n",
       "    </tr>\n",
       "    <tr>\n",
       "      <th>rika</th>\n",
       "      <td>-0.938303</td>\n",
       "      <td>0.032381</td>\n",
       "    </tr>\n",
       "    <tr>\n",
       "      <th>ongaku</th>\n",
       "      <td>-0.799222</td>\n",
       "      <td>0.276312</td>\n",
       "    </tr>\n",
       "    <tr>\n",
       "      <th>bijutu</th>\n",
       "      <td>-0.615743</td>\n",
       "      <td>0.465988</td>\n",
       "    </tr>\n",
       "    <tr>\n",
       "      <th>taiiku</th>\n",
       "      <td>-0.073889</td>\n",
       "      <td>0.838507</td>\n",
       "    </tr>\n",
       "    <tr>\n",
       "      <th>gika</th>\n",
       "      <td>-0.728524</td>\n",
       "      <td>0.133834</td>\n",
       "    </tr>\n",
       "    <tr>\n",
       "      <th>eigo</th>\n",
       "      <td>-0.821381</td>\n",
       "      <td>0.237177</td>\n",
       "    </tr>\n",
       "  </tbody>\n",
       "</table>\n",
       "</div>"
      ],
      "text/plain": [
       "         Factor1   Factor2\n",
       "kokugo -0.782942  0.427470\n",
       "shakai -0.894137  0.148634\n",
       "sugaku -0.868325  0.110725\n",
       "rika   -0.938303  0.032381\n",
       "ongaku -0.799222  0.276312\n",
       "bijutu -0.615743  0.465988\n",
       "taiiku -0.073889  0.838507\n",
       "gika   -0.728524  0.133834\n",
       "eigo   -0.821381  0.237177"
      ]
     },
     "execution_count": 8,
     "metadata": {},
     "output_type": "execute_result"
    }
   ],
   "source": [
    "# 因子負荷量\n",
    "fa.loadings"
   ]
  },
  {
   "cell_type": "code",
   "execution_count": 9,
   "metadata": {
    "collapsed": false
   },
   "outputs": [
    {
     "data": {
      "text/plain": [
       "(   Original_Eigenvalues\n",
       " 0              6.006431\n",
       " 1              1.098185\n",
       " 2              0.490842\n",
       " 3              0.406976\n",
       " 4              0.300260\n",
       " 5              0.221459\n",
       " 6              0.182787\n",
       " 7              0.171195\n",
       " 8              0.121864,    Common_Factor_Eigenvalues\n",
       " 0                   5.750859\n",
       " 1                   0.813676\n",
       " 2                   0.131451\n",
       " 3                   0.103217\n",
       " 4                   0.010771\n",
       " 5                  -0.005481\n",
       " 6                  -0.056416\n",
       " 7                  -0.075562\n",
       " 8                  -0.107980)"
      ]
     },
     "execution_count": 9,
     "metadata": {},
     "output_type": "execute_result"
    }
   ],
   "source": [
    "#  固有値\n",
    "fa.get_eigenvalues()"
   ]
  },
  {
   "cell_type": "code",
   "execution_count": 10,
   "metadata": {
    "collapsed": false
   },
   "outputs": [
    {
     "data": {
      "text/html": [
       "<div>\n",
       "<table border=\"1\" class=\"dataframe\">\n",
       "  <thead>\n",
       "    <tr style=\"text-align: right;\">\n",
       "      <th></th>\n",
       "      <th>Uniqueness</th>\n",
       "    </tr>\n",
       "  </thead>\n",
       "  <tbody>\n",
       "    <tr>\n",
       "      <th>kokugo</th>\n",
       "      <td>0.204272</td>\n",
       "    </tr>\n",
       "    <tr>\n",
       "      <th>shakai</th>\n",
       "      <td>0.178426</td>\n",
       "    </tr>\n",
       "    <tr>\n",
       "      <th>sugaku</th>\n",
       "      <td>0.233751</td>\n",
       "    </tr>\n",
       "    <tr>\n",
       "      <th>rika</th>\n",
       "      <td>0.118539</td>\n",
       "    </tr>\n",
       "    <tr>\n",
       "      <th>ongaku</th>\n",
       "      <td>0.284895</td>\n",
       "    </tr>\n",
       "    <tr>\n",
       "      <th>bijutu</th>\n",
       "      <td>0.403715</td>\n",
       "    </tr>\n",
       "    <tr>\n",
       "      <th>taiiku</th>\n",
       "      <td>0.291446</td>\n",
       "    </tr>\n",
       "    <tr>\n",
       "      <th>gika</th>\n",
       "      <td>0.451341</td>\n",
       "    </tr>\n",
       "    <tr>\n",
       "      <th>eigo</th>\n",
       "      <td>0.269080</td>\n",
       "    </tr>\n",
       "  </tbody>\n",
       "</table>\n",
       "</div>"
      ],
      "text/plain": [
       "        Uniqueness\n",
       "kokugo    0.204272\n",
       "shakai    0.178426\n",
       "sugaku    0.233751\n",
       "rika      0.118539\n",
       "ongaku    0.284895\n",
       "bijutu    0.403715\n",
       "taiiku    0.291446\n",
       "gika      0.451341\n",
       "eigo      0.269080"
      ]
     },
     "execution_count": 10,
     "metadata": {},
     "output_type": "execute_result"
    }
   ],
   "source": [
    "# 独自因子\n",
    "fa.get_uniqueness()"
   ]
  },
  {
   "cell_type": "code",
   "execution_count": 11,
   "metadata": {
    "collapsed": false
   },
   "outputs": [
    {
     "data": {
      "text/html": [
       "<div>\n",
       "<table border=\"1\" class=\"dataframe\">\n",
       "  <thead>\n",
       "    <tr style=\"text-align: right;\">\n",
       "      <th></th>\n",
       "      <th>Factor1</th>\n",
       "      <th>Factor2</th>\n",
       "    </tr>\n",
       "  </thead>\n",
       "  <tbody>\n",
       "    <tr>\n",
       "      <th>SS Loadings</th>\n",
       "      <td>5.275652</td>\n",
       "      <td>1.288883</td>\n",
       "    </tr>\n",
       "    <tr>\n",
       "      <th>Proportion Var</th>\n",
       "      <td>0.586184</td>\n",
       "      <td>0.143209</td>\n",
       "    </tr>\n",
       "    <tr>\n",
       "      <th>Cumulative Var</th>\n",
       "      <td>0.586184</td>\n",
       "      <td>0.729393</td>\n",
       "    </tr>\n",
       "  </tbody>\n",
       "</table>\n",
       "</div>"
      ],
      "text/plain": [
       "                 Factor1   Factor2\n",
       "SS Loadings     5.275652  1.288883\n",
       "Proportion Var  0.586184  0.143209\n",
       "Cumulative Var  0.586184  0.729393"
      ]
     },
     "execution_count": 11,
     "metadata": {},
     "output_type": "execute_result"
    }
   ],
   "source": [
    "# 寄与度、寄与率、累積寄与率\n",
    "fa.get_factor_variance()"
   ]
  },
  {
   "cell_type": "code",
   "execution_count": null,
   "metadata": {
    "collapsed": true
   },
   "outputs": [],
   "source": []
  }
 ],
 "metadata": {
  "kernelspec": {
   "display_name": "Python 3",
   "language": "python",
   "name": "python3"
  },
  "language_info": {
   "codemirror_mode": {
    "name": "ipython",
    "version": 3
   },
   "file_extension": ".py",
   "mimetype": "text/x-python",
   "name": "python",
   "nbconvert_exporter": "python",
   "pygments_lexer": "ipython3",
   "version": "3.5.5"
  }
 },
 "nbformat": 4,
 "nbformat_minor": 0
}
